{
 "cells": [
  {
   "cell_type": "code",
   "execution_count": 1,
   "metadata": {},
   "outputs": [],
   "source": [
    "import tensorflow as tf\n",
    "import numpy as np"
   ]
  },
  {
   "cell_type": "code",
   "execution_count": 5,
   "metadata": {},
   "outputs": [],
   "source": [
    "x = np.random.uniform(size=[2,3,4])"
   ]
  },
  {
   "cell_type": "code",
   "execution_count": 19,
   "metadata": {},
   "outputs": [
    {
     "name": "stdout",
     "output_type": "stream",
     "text": [
      "(2, 3, 4)\n"
     ]
    }
   ],
   "source": [
    "print x.shape"
   ]
  },
  {
   "cell_type": "code",
   "execution_count": 14,
   "metadata": {},
   "outputs": [
    {
     "name": "stdout",
     "output_type": "stream",
     "text": [
      "-----axis0------\n",
      "[[ 0.48124879  0.37162346  0.27396401  0.78824639]\n",
      " [ 0.80874922  0.8655116   0.75741596  0.4548242 ]\n",
      " [ 0.29287075  0.60090552  0.95177836  0.39707682]]\n",
      "[[1 1 1 0]\n",
      " [0 0 1 0]\n",
      " [1 0 0 0]]\n"
     ]
    }
   ],
   "source": [
    "print '-----axis {}------'.format(0)\n",
    "print x\n",
    "print x.max(axis=0)\n",
    "print x.argmax(axis=0)"
   ]
  },
  {
   "cell_type": "code",
   "execution_count": 15,
   "metadata": {},
   "outputs": [
    {
     "name": "stdout",
     "output_type": "stream",
     "text": [
      "-----axis 1------\n",
      "[[ 0.80874922  0.8655116   0.95177836  0.78824639]\n",
      " [ 0.75190736  0.76076012  0.75741596  0.60247256]]\n",
      "[[1 1 2 0]\n",
      " [1 1 1 0]]\n"
     ]
    }
   ],
   "source": [
    "print '-----axis {}------'.format(1)\n",
    "print x\n",
    "print x.max(axis=1)\n",
    "print x.argmax(axis=1)"
   ]
  },
  {
   "cell_type": "code",
   "execution_count": 18,
   "metadata": {},
   "outputs": [
    {
     "name": "stdout",
     "output_type": "stream",
     "text": [
      "-----axis 2------\n",
      "[[[ 0.03048706  0.11668049  0.09063453  0.78824639]\n",
      "  [ 0.80874922  0.8655116   0.36825527  0.4548242 ]\n",
      "  [ 0.04724699  0.60090552  0.95177836  0.39707682]]\n",
      "\n",
      " [[ 0.48124879  0.37162346  0.27396401  0.60247256]\n",
      "  [ 0.75190736  0.76076012  0.75741596  0.11845325]\n",
      "  [ 0.29287075  0.21288954  0.32252199  0.37199063]]]\n",
      "\n",
      "[[ 0.78824639  0.8655116   0.95177836]\n",
      " [ 0.60247256  0.76076012  0.37199063]]\n",
      "\n",
      "[[3 1 2]\n",
      " [3 1 3]]\n"
     ]
    }
   ],
   "source": [
    "print '-----axis {}------'.format(2)\n",
    "print x\n",
    "print \n",
    "print x.max(axis=2)\n",
    "print \n",
    "print x.argmax(axis=2)"
   ]
  },
  {
   "cell_type": "code",
   "execution_count": 37,
   "metadata": {},
   "outputs": [],
   "source": [
    "y = tf.constant(tf.random_normal(shape=[2,3,4]).eval(),name='y',shape=[2,3,4])"
   ]
  },
  {
   "cell_type": "code",
   "execution_count": 38,
   "metadata": {},
   "outputs": [],
   "source": [
    "sess = tf.InteractiveSession()"
   ]
  },
  {
   "cell_type": "code",
   "execution_count": 40,
   "metadata": {},
   "outputs": [
    {
     "data": {
      "text/plain": [
       "array([[[ 1.78746164,  1.24596357, -0.60129839,  0.97121161],\n",
       "        [-1.2586261 ,  0.96160638,  1.64465499, -0.56369293],\n",
       "        [ 0.95138705, -0.21225823,  0.10086749,  0.27445689]],\n",
       "\n",
       "       [[ 0.51522624,  0.74777263,  0.40712735, -0.04982341],\n",
       "        [ 0.0845392 ,  0.2283259 , -0.19035283,  1.77780521],\n",
       "        [-1.62168801,  0.8783884 ,  1.51146531, -0.34187347]]], dtype=float32)"
      ]
     },
     "execution_count": 40,
     "metadata": {},
     "output_type": "execute_result"
    }
   ],
   "source": [
    "y.eval()"
   ]
  },
  {
   "cell_type": "code",
   "execution_count": 41,
   "metadata": {},
   "outputs": [
    {
     "name": "stdout",
     "output_type": "stream",
     "text": [
      "-----axis 2------\n",
      "[[[ 1.78746164  1.24596357 -0.60129839  0.97121161]\n",
      "  [-1.2586261   0.96160638  1.64465499 -0.56369293]\n",
      "  [ 0.95138705 -0.21225823  0.10086749  0.27445689]]\n",
      "\n",
      " [[ 0.51522624  0.74777263  0.40712735 -0.04982341]\n",
      "  [ 0.0845392   0.2283259  -0.19035283  1.77780521]\n",
      "  [-1.62168801  0.8783884   1.51146531 -0.34187347]]]\n",
      "\n",
      "[[ 1.78746164  1.64465499  0.95138705]\n",
      " [ 0.74777263  1.77780521  1.51146531]]\n",
      "\n",
      "[[0 2 0]\n",
      " [1 3 2]]\n"
     ]
    }
   ],
   "source": [
    "print '-----axis {}------'.format(2)\n",
    "print y.eval()\n",
    "print \n",
    "print tf.reduce_max(y,axis=2).eval()\n",
    "print \n",
    "print tf.argmax(y,axis=2).eval()"
   ]
  },
  {
   "cell_type": "code",
   "execution_count": 43,
   "metadata": {},
   "outputs": [
    {
     "name": "stdout",
     "output_type": "stream",
     "text": [
      "-----axis 0------\n",
      "[[[ 1.78746164  1.24596357 -0.60129839  0.97121161]\n",
      "  [-1.2586261   0.96160638  1.64465499 -0.56369293]\n",
      "  [ 0.95138705 -0.21225823  0.10086749  0.27445689]]\n",
      "\n",
      " [[ 0.51522624  0.74777263  0.40712735 -0.04982341]\n",
      "  [ 0.0845392   0.2283259  -0.19035283  1.77780521]\n",
      "  [-1.62168801  0.8783884   1.51146531 -0.34187347]]]\n",
      "\n",
      "[[ 1.78746164  1.24596357  0.40712735  0.97121161]\n",
      " [ 0.0845392   0.96160638  1.64465499  1.77780521]\n",
      " [ 0.95138705  0.8783884   1.51146531  0.27445689]]\n",
      "\n",
      "[[0 0 1 0]\n",
      " [1 0 0 1]\n",
      " [0 1 1 0]]\n"
     ]
    }
   ],
   "source": [
    "print '-----axis {}------'.format(0)\n",
    "print y.eval()\n",
    "print \n",
    "print tf.reduce_max(y,axis=0).eval()\n",
    "print \n",
    "print tf.argmax(y,axis=0).eval()"
   ]
  },
  {
   "cell_type": "code",
   "execution_count": 44,
   "metadata": {},
   "outputs": [
    {
     "name": "stdout",
     "output_type": "stream",
     "text": [
      "-----axis 1------\n",
      "[[[ 1.78746164  1.24596357 -0.60129839  0.97121161]\n",
      "  [-1.2586261   0.96160638  1.64465499 -0.56369293]\n",
      "  [ 0.95138705 -0.21225823  0.10086749  0.27445689]]\n",
      "\n",
      " [[ 0.51522624  0.74777263  0.40712735 -0.04982341]\n",
      "  [ 0.0845392   0.2283259  -0.19035283  1.77780521]\n",
      "  [-1.62168801  0.8783884   1.51146531 -0.34187347]]]\n",
      "\n",
      "[[ 1.78746164  1.24596357  1.64465499  0.97121161]\n",
      " [ 0.51522624  0.8783884   1.51146531  1.77780521]]\n",
      "\n",
      "[[0 0 1 0]\n",
      " [0 2 2 1]]\n"
     ]
    }
   ],
   "source": [
    "print '-----axis {}------'.format(1)\n",
    "print y.eval()\n",
    "print \n",
    "print tf.reduce_max(y,axis=1).eval()\n",
    "print \n",
    "print tf.argmax(y,axis=1).eval()"
   ]
  },
  {
   "cell_type": "code",
   "execution_count": null,
   "metadata": {},
   "outputs": [],
   "source": []
  }
 ],
 "metadata": {
  "kernelspec": {
   "display_name": "Python 2",
   "language": "python",
   "name": "python2"
  },
  "language_info": {
   "codemirror_mode": {
    "name": "ipython",
    "version": 2
   },
   "file_extension": ".py",
   "mimetype": "text/x-python",
   "name": "python",
   "nbconvert_exporter": "python",
   "pygments_lexer": "ipython2",
   "version": "2.7.13"
  }
 },
 "nbformat": 4,
 "nbformat_minor": 2
}
