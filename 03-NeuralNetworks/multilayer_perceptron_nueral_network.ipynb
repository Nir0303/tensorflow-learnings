{
 "cells": [
  {
   "cell_type": "code",
   "execution_count": 2,
   "metadata": {},
   "outputs": [],
   "source": [
    "import tensorflow as tf"
   ]
  },
  {
   "cell_type": "code",
   "execution_count": 3,
   "metadata": {},
   "outputs": [
    {
     "name": "stdout",
     "output_type": "stream",
     "text": [
      "Extracting ../data/MNIST/train-images-idx3-ubyte.gz\n",
      "Extracting ../data/MNIST/train-labels-idx1-ubyte.gz\n",
      "Extracting ../data/MNIST/t10k-images-idx3-ubyte.gz\n",
      "Extracting ../data/MNIST/t10k-labels-idx1-ubyte.gz\n"
     ]
    }
   ],
   "source": [
    "from tensorflow.examples.tutorials.mnist import input_data\n",
    "mnist_data = input_data.read_data_sets('../data/MNIST/', one_hot=True)"
   ]
  },
  {
   "cell_type": "code",
   "execution_count": 4,
   "metadata": {},
   "outputs": [],
   "source": [
    "x = tf.placeholder(\"float\",[None,784],name=\"x\")\n",
    "y = tf.placeholder(\"float\",shape=[None,10],name=\"actural_label\")"
   ]
  },
  {
   "cell_type": "code",
   "execution_count": 5,
   "metadata": {},
   "outputs": [],
   "source": [
    "num_neurons_layer1 = 500\n",
    "num_neurons_layer2 = 250\n",
    "output_var = 10\n",
    "input_var = 784"
   ]
  },
  {
   "cell_type": "code",
   "execution_count": 6,
   "metadata": {},
   "outputs": [],
   "source": [
    "weights = {'input_layer': tf.Variable(tf.random_normal(shape=[input_var,num_neurons_layer1]),name=\"input_layer_weights\"),\n",
    "          'hidden_layer1':  tf.Variable(tf.random_normal(shape=[num_neurons_layer1,num_neurons_layer2]),name=\"hidden_layer_weights\"),\n",
    "           'output_layer':  tf.Variable(tf.random_normal(shape=[num_neurons_layer2,output_var]),name=\"output_layer_weights\")\n",
    "          }\n",
    "\n",
    "bias = {'input_layer': tf.Variable(tf.random_normal(shape=[num_neurons_layer1]),name=\"input_layer_bias\"),\n",
    "          'hidden_layer1':  tf.Variable(tf.random_normal(shape=[num_neurons_layer2]),name=\"hidden_layer1_bias\"),\n",
    "           'output_layer':  tf.Variable(tf.random_normal(shape=[output_var]),name=\"output_layer_bias\")\n",
    "          }\n",
    "\n"
   ]
  },
  {
   "cell_type": "code",
   "execution_count": 7,
   "metadata": {},
   "outputs": [],
   "source": [
    "def neural_net(x):\n",
    "    input_layer_output = tf.add(tf.matmul(x,weights['input_layer']), bias['input_layer'])\n",
    "    hidden_layer_output =  tf.add(tf.matmul(input_layer_output,weights['hidden_layer1']), bias['hidden_layer1'])\n",
    "    logits = tf.add(tf.matmul(hidden_layer_output,weights['output_layer']), bias['output_layer'])\n",
    "    return logits"
   ]
  },
  {
   "cell_type": "code",
   "execution_count": 8,
   "metadata": {},
   "outputs": [],
   "source": [
    "sess = tf.InteractiveSession()"
   ]
  },
  {
   "cell_type": "code",
   "execution_count": 9,
   "metadata": {},
   "outputs": [],
   "source": [
    "logits = neural_net(x)"
   ]
  },
  {
   "cell_type": "code",
   "execution_count": 10,
   "metadata": {},
   "outputs": [],
   "source": [
    "cross_entropy = tf.nn.softmax_cross_entropy_with_logits(logits=logits, labels= y)"
   ]
  },
  {
   "cell_type": "code",
   "execution_count": 11,
   "metadata": {},
   "outputs": [],
   "source": [
    "loss = tf.train.AdamOptimizer(learning_rate=0.0005).minimize(cross_entropy)"
   ]
  },
  {
   "cell_type": "code",
   "execution_count": 12,
   "metadata": {},
   "outputs": [],
   "source": [
    "init = tf.global_variables_initializer()"
   ]
  },
  {
   "cell_type": "code",
   "execution_count": 13,
   "metadata": {},
   "outputs": [],
   "source": [
    "sess.run(init)"
   ]
  },
  {
   "cell_type": "code",
   "execution_count": 14,
   "metadata": {},
   "outputs": [],
   "source": [
    "for _ in range(1000):\n",
    "    batch_xs,batch_ys = mnist_data.train.next_batch(1000)\n",
    "    sess.run(loss,feed_dict={x:batch_xs,y:batch_ys})"
   ]
  },
  {
   "cell_type": "code",
   "execution_count": 83,
   "metadata": {},
   "outputs": [],
   "source": [
    "correct_pred = tf.equal( tf.argmax(y,axis=1), tf.argmax(logits,axis=1))\n",
    "accuracy = tf.reduce_mean(tf.cast(correct_pred,tf.float32))"
   ]
  },
  {
   "cell_type": "code",
   "execution_count": 84,
   "metadata": {},
   "outputs": [
    {
     "data": {
      "text/plain": [
       "0.88380003"
      ]
     },
     "execution_count": 84,
     "metadata": {},
     "output_type": "execute_result"
    }
   ],
   "source": [
    "sess.run(accuracy,feed_dict={x:mnist_data.test.images,y:mnist_data.test.labels})"
   ]
  },
  {
   "cell_type": "code",
   "execution_count": 70,
   "metadata": {},
   "outputs": [],
   "source": [
    "sess.close()"
   ]
  }
 ],
 "metadata": {
  "kernelspec": {
   "display_name": "Python 2",
   "language": "python",
   "name": "python2"
  },
  "language_info": {
   "codemirror_mode": {
    "name": "ipython",
    "version": 2
   },
   "file_extension": ".py",
   "mimetype": "text/x-python",
   "name": "python",
   "nbconvert_exporter": "python",
   "pygments_lexer": "ipython2",
   "version": "2.7.13"
  }
 },
 "nbformat": 4,
 "nbformat_minor": 2
}
