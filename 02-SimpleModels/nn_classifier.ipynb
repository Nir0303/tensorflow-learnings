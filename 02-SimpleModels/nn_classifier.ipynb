{
 "cells": [
  {
   "cell_type": "code",
   "execution_count": 1,
   "metadata": {},
   "outputs": [],
   "source": [
    "import tensorflow as tf\n",
    "import numpy as np\n",
    "import matplotlib.pyplot as plot\n",
    "from tensorflow.examples.tutorials.mnist import input_data"
   ]
  },
  {
   "cell_type": "code",
   "execution_count": 2,
   "metadata": {},
   "outputs": [
    {
     "data": {
      "text/plain": [
       "'1.3.0'"
      ]
     },
     "execution_count": 2,
     "metadata": {},
     "output_type": "execute_result"
    }
   ],
   "source": [
    "tf.__version__"
   ]
  },
  {
   "cell_type": "code",
   "execution_count": 3,
   "metadata": {},
   "outputs": [
    {
     "name": "stdout",
     "output_type": "stream",
     "text": [
      "Extracting data/MNIST/train-images-idx3-ubyte.gz\n",
      "Extracting data/MNIST/train-labels-idx1-ubyte.gz\n",
      "Extracting data/MNIST/t10k-images-idx3-ubyte.gz\n",
      "Extracting data/MNIST/t10k-labels-idx1-ubyte.gz\n"
     ]
    }
   ],
   "source": [
    "mnist = input_data.read_data_sets('data/MNIST/', one_hot=True)"
   ]
  },
  {
   "cell_type": "code",
   "execution_count": 4,
   "metadata": {},
   "outputs": [
    {
     "data": {
      "text/plain": [
       "tensorflow.contrib.learn.python.learn.datasets.mnist.DataSet"
      ]
     },
     "execution_count": 4,
     "metadata": {},
     "output_type": "execute_result"
    }
   ],
   "source": [
    "type(mnist.train)"
   ]
  },
  {
   "cell_type": "code",
   "execution_count": 5,
   "metadata": {},
   "outputs": [
    {
     "data": {
      "text/plain": [
       "10000"
      ]
     },
     "execution_count": 5,
     "metadata": {},
     "output_type": "execute_result"
    }
   ],
   "source": [
    "mnist.test.images.shape[0]"
   ]
  },
  {
   "cell_type": "code",
   "execution_count": 6,
   "metadata": {},
   "outputs": [],
   "source": [
    "X_train = tf.placeholder(dtype=tf.float32,name='X_train')\n",
    "\n",
    "Y_train = tf.placeholder(dtype=tf.float32,name='Y_train')\n",
    "\n",
    "X_test = tf.placeholder(dtype=tf.float32,name='X_test')\n",
    "\n",
    "Y_actual = np.asarray(mnist.test.labels,dtype=np.int16)\n",
    "\n",
    "Y_predicted = np.zeros(shape=mnist.test.labels.shape,dtype=np.int16)\n",
    "\n",
    "Y_indices = np.zeros(shape=[mnist.test.labels.shape[0],2],dtype=np.int16)\n",
    "\n",
    "sub = tf.subtract(X_train-X_test,y=0,name='sub')\n",
    "\n",
    "diff_sum = tf.reduce_sum(tf.abs(sub),1,name='diff_sum')\n",
    "\n",
    "predicted = tf.argmin(diff_sum,axis=0,output_type=tf.int64,name='predicted')\n",
    "\n"
   ]
  },
  {
   "cell_type": "code",
   "execution_count": 7,
   "metadata": {},
   "outputs": [],
   "source": [
    "with tf.Session() as sess:\n",
    "    num_samples=mnist.test.images.shape[0]\n",
    "    #writer = tf.SummaryWriter('./graphs/nn_classifier')\n",
    "    \n",
    "    for i in range(num_samples):\n",
    "        sub1,diff,p =sess.run([sub,diff_sum,predicted],feed_dict={X_train:mnist.train.images,X_test:mnist.test.images[i]})\n",
    "        Y_predicted[i] = mnist.train.labels[p]\n",
    "        Y_indices[i]=[i,p]\n",
    "    acc = np.mean( Y_predicted == Y_actual)  "
   ]
  },
  {
   "cell_type": "code",
   "execution_count": 8,
   "metadata": {},
   "outputs": [
    {
     "data": {
      "text/plain": [
       "array([[0, 0, 0, ..., 1, 0, 0],\n",
       "       [0, 0, 1, ..., 0, 0, 0],\n",
       "       [0, 1, 0, ..., 0, 0, 0],\n",
       "       ..., \n",
       "       [0, 0, 0, ..., 0, 0, 0],\n",
       "       [0, 0, 0, ..., 0, 0, 0],\n",
       "       [0, 0, 0, ..., 0, 0, 0]], dtype=int16)"
      ]
     },
     "execution_count": 8,
     "metadata": {},
     "output_type": "execute_result"
    }
   ],
   "source": [
    "Y_predicted"
   ]
  },
  {
   "cell_type": "code",
   "execution_count": 9,
   "metadata": {},
   "outputs": [
    {
     "data": {
      "text/plain": [
       "0.99231999999999998"
      ]
     },
     "execution_count": 9,
     "metadata": {},
     "output_type": "execute_result"
    }
   ],
   "source": [
    "acc"
   ]
  },
  {
   "cell_type": "code",
   "execution_count": 10,
   "metadata": {},
   "outputs": [],
   "source": [
    "t = Y_predicted != Y_actual"
   ]
  },
  {
   "cell_type": "code",
   "execution_count": 11,
   "metadata": {},
   "outputs": [
    {
     "data": {
      "text/plain": [
       "768"
      ]
     },
     "execution_count": 11,
     "metadata": {},
     "output_type": "execute_result"
    }
   ],
   "source": [
    "len(Y_actual[t])"
   ]
  },
  {
   "cell_type": "code",
   "execution_count": 12,
   "metadata": {},
   "outputs": [
    {
     "data": {
      "text/plain": [
       "(10000, 10)"
      ]
     },
     "execution_count": 12,
     "metadata": {},
     "output_type": "execute_result"
    }
   ],
   "source": [
    "Y_actual.shape"
   ]
  },
  {
   "cell_type": "code",
   "execution_count": 13,
   "metadata": {},
   "outputs": [],
   "source": [
    "Y_actual_value=np.argmax(Y_actual,axis=1)\n",
    "Y_predicted_value=np.argmax(Y_predicted,axis=1)"
   ]
  },
  {
   "cell_type": "code",
   "execution_count": 14,
   "metadata": {},
   "outputs": [],
   "source": [
    "t = Y_predicted_value != Y_actual_value"
   ]
  },
  {
   "cell_type": "code",
   "execution_count": 15,
   "metadata": {},
   "outputs": [
    {
     "data": {
      "text/plain": [
       "array([[    43, -32121],\n",
       "       [    65, -15296],\n",
       "       [   115,   3127],\n",
       "       [   175, -28713],\n",
       "       [   195, -23516],\n",
       "       [   241,   4732],\n",
       "       [   250, -31984],\n",
       "       [   266,  15478],\n",
       "       [   268, -22598],\n",
       "       [   290,   9827],\n",
       "       [   300, -21228],\n",
       "       [   318,  31312],\n",
       "       [   320,  28406],\n",
       "       [   321, -20461],\n",
       "       [   341,  29266],\n",
       "       [   358,  14138],\n",
       "       [   381, -19742],\n",
       "       [   412,  13765],\n",
       "       [   443, -30364],\n",
       "       [   444, -13181],\n",
       "       [   445,  19541],\n",
       "       [   447,  19821],\n",
       "       [   464,  31840],\n",
       "       [   479,  21048],\n",
       "       [   495,   3896],\n",
       "       [   542, -21144],\n",
       "       [   543,  31936],\n",
       "       [   551,     90],\n",
       "       [   565,  25977],\n",
       "       [   578,  10343],\n",
       "       [   582,  32610],\n",
       "       [   583, -29368],\n",
       "       [   628,  12562],\n",
       "       [   646, -12794],\n",
       "       [   684,  31324],\n",
       "       [   717, -19624],\n",
       "       [   726,  22248],\n",
       "       [   740,   9842],\n",
       "       [   774,  27676],\n",
       "       [   787,  22518],\n",
       "       [   791,  30786],\n",
       "       [   839,  11191],\n",
       "       [   844, -23982],\n",
       "       [   857, -14562],\n",
       "       [   881,  15111],\n",
       "       [   899,  22115],\n",
       "       [   924,    161],\n",
       "       [   938, -29668],\n",
       "       [   939, -22846],\n",
       "       [   947, -19685],\n",
       "       [   951, -20514],\n",
       "       [   956,   6438],\n",
       "       [   957,   5958],\n",
       "       [   995,   6615],\n",
       "       [  1014,  12645],\n",
       "       [  1026,  19512],\n",
       "       [  1039,  26478],\n",
       "       [  1068,  32410],\n",
       "       [  1082, -31822],\n",
       "       [  1089, -29662],\n",
       "       [  1107,  21432],\n",
       "       [  1112,   8047],\n",
       "       [  1192,  23518],\n",
       "       [  1202,  18550],\n",
       "       [  1226, -20442],\n",
       "       [  1232,  24358],\n",
       "       [  1234,   1594],\n",
       "       [  1242,  26934],\n",
       "       [  1247, -29511],\n",
       "       [  1248,  29716],\n",
       "       [  1260,   2632],\n",
       "       [  1299,  30855],\n",
       "       [  1319,   9851],\n",
       "       [  1325,  30628],\n",
       "       [  1364,   7812],\n",
       "       [  1422, -19288],\n",
       "       [  1425, -17731],\n",
       "       [  1465, -18505],\n",
       "       [  1476,   1213],\n",
       "       [  1496, -27508],\n",
       "       [  1500,  14968],\n",
       "       [  1522,   2264],\n",
       "       [  1527,  11011],\n",
       "       [  1530, -24460],\n",
       "       [  1553,  14465],\n",
       "       [  1559,  31774],\n",
       "       [  1626,   8394],\n",
       "       [  1634, -11575],\n",
       "       [  1641, -14135],\n",
       "       [  1681,  10545],\n",
       "       [  1695,  31546],\n",
       "       [  1709,  27234],\n",
       "       [  1721,   5799],\n",
       "       [  1737, -26186],\n",
       "       [  1754, -19043],\n",
       "       [  1761,  12384],\n",
       "       [  1774,  19374],\n",
       "       [  1782, -28169],\n",
       "       [  1790, -11148],\n",
       "       [  1813,   1852],\n",
       "       [  1819, -20301],\n",
       "       [  1855, -20014],\n",
       "       [  1865, -24496],\n",
       "       [  1878, -28928],\n",
       "       [  1901, -29344],\n",
       "       [  1955, -16161],\n",
       "       [  1970,   9577],\n",
       "       [  1984, -18949],\n",
       "       [  2044,  31531],\n",
       "       [  2052, -25034],\n",
       "       [  2053,   6897],\n",
       "       [  2058,  17459],\n",
       "       [  2063,  11906],\n",
       "       [  2070, -23196],\n",
       "       [  2093, -30137],\n",
       "       [  2098,  21980],\n",
       "       [  2109,   6962],\n",
       "       [  2118, -18500],\n",
       "       [  2130,   5906],\n",
       "       [  2135, -28813],\n",
       "       [  2168, -23990],\n",
       "       [  2177, -32000],\n",
       "       [  2182, -13797],\n",
       "       [  2224, -13740],\n",
       "       [  2233,  14638],\n",
       "       [  2272, -24710],\n",
       "       [  2280,   7978],\n",
       "       [  2288,   6270],\n",
       "       [  2293, -15146],\n",
       "       [  2298, -12223],\n",
       "       [  2308,  28825],\n",
       "       [  2314, -10621],\n",
       "       [  2325,  11228],\n",
       "       [  2339,  30480],\n",
       "       [  2387,  21774],\n",
       "       [  2400,   5644],\n",
       "       [  2422,  11438],\n",
       "       [  2426,  17580],\n",
       "       [  2430, -24398],\n",
       "       [  2437, -10634],\n",
       "       [  2454,  21700],\n",
       "       [  2456, -15118],\n",
       "       [  2488, -28910],\n",
       "       [  2533, -17456],\n",
       "       [  2559, -25448],\n",
       "       [  2560,   6410],\n",
       "       [  2582,  30625],\n",
       "       [  2607, -31839],\n",
       "       [  2654,  10266],\n",
       "       [  2671, -10621],\n",
       "       [  2684,  25764],\n",
       "       [  2721,  28222],\n",
       "       [  2730,  16131],\n",
       "       [  2758, -23646],\n",
       "       [  2810,  32135],\n",
       "       [  2832,   6480],\n",
       "       [  2852,  26890],\n",
       "       [  2869, -31912],\n",
       "       [  2896,  10060],\n",
       "       [  2927,  32743],\n",
       "       [  2939, -25946],\n",
       "       [  2945, -10875],\n",
       "       [  2952,  28602],\n",
       "       [  2953,  22764],\n",
       "       [  2979,  17796],\n",
       "       [  3005,  10300],\n",
       "       [  3060,   8789],\n",
       "       [  3062,  30955],\n",
       "       [  3064,  12460],\n",
       "       [  3073, -12810],\n",
       "       [  3117,  15264],\n",
       "       [  3136,  19834],\n",
       "       [  3153,   3986],\n",
       "       [  3160,  28262],\n",
       "       [  3176,  24850],\n",
       "       [  3206,   5902],\n",
       "       [  3228,  25758],\n",
       "       [  3229,   8676],\n",
       "       [  3240,   3800],\n",
       "       [  3269,  30708],\n",
       "       [  3280,  29600],\n",
       "       [  3282,  24108],\n",
       "       [  3289,  23183],\n",
       "       [  3323,   9454],\n",
       "       [  3333,   6150],\n",
       "       [  3336, -23708],\n",
       "       [  3337,  30710],\n",
       "       [  3369, -13960],\n",
       "       [  3376,   5799],\n",
       "       [  3405,  13057],\n",
       "       [  3422,  13222],\n",
       "       [  3456,  28502],\n",
       "       [  3474, -30864],\n",
       "       [  3475, -28829],\n",
       "       [  3503,  16220],\n",
       "       [  3520, -25437],\n",
       "       [  3558,   9817],\n",
       "       [  3559,  23952],\n",
       "       [  3567,  10481],\n",
       "       [  3597, -26870],\n",
       "       [  3599,   2384],\n",
       "       [  3629,  12245],\n",
       "       [  3654,  21471],\n",
       "       [  3662,   1291],\n",
       "       [  3702,  10180],\n",
       "       [  3727, -20036],\n",
       "       [  3742, -27474],\n",
       "       [  3751, -22956],\n",
       "       [  3757, -21007],\n",
       "       [  3780, -14975],\n",
       "       [  3796, -13654],\n",
       "       [  3808, -26291],\n",
       "       [  3811,  12467],\n",
       "       [  3838,  16634],\n",
       "       [  3850, -17616],\n",
       "       [  3853,   2382],\n",
       "       [  3893,   7762],\n",
       "       [  3902, -28282],\n",
       "       [  3926,  28817],\n",
       "       [  3941, -30187],\n",
       "       [  3949, -24744],\n",
       "       [  3968,   1844],\n",
       "       [  3976,   2632],\n",
       "       [  3987,   4078],\n",
       "       [  4017,  18128],\n",
       "       [  4065,  30110],\n",
       "       [  4075,  13752],\n",
       "       [  4078,   7435],\n",
       "       [  4124, -26300],\n",
       "       [  4140,  16170],\n",
       "       [  4145,   5091],\n",
       "       [  4163, -13179],\n",
       "       [  4176, -28126],\n",
       "       [  4194,   1036],\n",
       "       [  4199,  12860],\n",
       "       [  4201, -30248],\n",
       "       [  4224, -20489],\n",
       "       [  4289,  10811],\n",
       "       [  4294, -11068],\n",
       "       [  4300,   6592],\n",
       "       [  4306,  32041],\n",
       "       [  4314,  17400],\n",
       "       [  4317, -28214],\n",
       "       [  4330,  30688],\n",
       "       [  4341,   1048],\n",
       "       [  4355,  22651],\n",
       "       [  4356,  13378],\n",
       "       [  4359,  29802],\n",
       "       [  4400,  14138],\n",
       "       [  4429,   6039],\n",
       "       [  4435,  14434],\n",
       "       [  4443, -15780],\n",
       "       [  4483,  18710],\n",
       "       [  4497,  14262],\n",
       "       [  4500,  21774],\n",
       "       [  4521, -12762],\n",
       "       [  4575,  19494],\n",
       "       [  4594, -28829],\n",
       "       [  4630, -21856],\n",
       "       [  4665, -22088],\n",
       "       [  4690,  27856],\n",
       "       [  4699, -15960],\n",
       "       [  4712, -21889],\n",
       "       [  4731,   5315],\n",
       "       [  4737, -16364],\n",
       "       [  4740,  19056],\n",
       "       [  4807,  12245],\n",
       "       [  4822,  17508],\n",
       "       [  4823, -26150],\n",
       "       [  4837,  30710],\n",
       "       [  4860,  15915],\n",
       "       [  4879, -25846],\n",
       "       [  4886,   1411],\n",
       "       [  4911, -27698],\n",
       "       [  4966, -31772],\n",
       "       [  5067,  14876],\n",
       "       [  5068, -28642],\n",
       "       [  5176, -27757],\n",
       "       [  5209,    904],\n",
       "       [  5331, -12794],\n",
       "       [  5586,  12761],\n",
       "       [  5595, -21510],\n",
       "       [  5600,   5799],\n",
       "       [  5617, -22866],\n",
       "       [  5676,   4740],\n",
       "       [  5691, -25908],\n",
       "       [  5734,  27280],\n",
       "       [  5757, -25483],\n",
       "       [  5835,  27909],\n",
       "       [  5841, -19457],\n",
       "       [  5842, -30343],\n",
       "       [  5878,  32606],\n",
       "       [  5887,  11170],\n",
       "       [  5888,  23519],\n",
       "       [  5906,  27342],\n",
       "       [  5936,  14616],\n",
       "       [  5955,  23682],\n",
       "       [  5973, -27288],\n",
       "       [  5997,  18100],\n",
       "       [  6004, -31910],\n",
       "       [  6011,  17720],\n",
       "       [  6023,  25838],\n",
       "       [  6035, -19711],\n",
       "       [  6059, -20601],\n",
       "       [  6081, -16633],\n",
       "       [  6091, -25531],\n",
       "       [  6160,  18193],\n",
       "       [  6166,  30784],\n",
       "       [  6172,  19105],\n",
       "       [  6542,  30224],\n",
       "       [  6555, -21959],\n",
       "       [  6569, -32616],\n",
       "       [  6574, -21397],\n",
       "       [  6597, -20258],\n",
       "       [  6598,  12168],\n",
       "       [  6614,  15226],\n",
       "       [  6625,  23828],\n",
       "       [  6651, -26291],\n",
       "       [  6700,  11885],\n",
       "       [  6755,   8187],\n",
       "       [  6813,  18317],\n",
       "       [  7121, -27416],\n",
       "       [  7233,  25764],\n",
       "       [  7304,  30015],\n",
       "       [  7338,  29694],\n",
       "       [  7434, -18423],\n",
       "       [  7444,  23292],\n",
       "       [  7471,  30633],\n",
       "       [  7473, -29159],\n",
       "       [  7492, -14190],\n",
       "       [  7545,    753],\n",
       "       [  7574, -18795],\n",
       "       [  7597,   9454],\n",
       "       [  7603, -29307],\n",
       "       [  7637,  31312],\n",
       "       [  7842,  26014],\n",
       "       [  7850,  26014],\n",
       "       [  7921,  23357],\n",
       "       [  8059,  26930],\n",
       "       [  8061,  24026],\n",
       "       [  8112,   8676],\n",
       "       [  8277,  24268],\n",
       "       [  8279,   7397],\n",
       "       [  8316,    638],\n",
       "       [  8406, -30408],\n",
       "       [  8408, -29149],\n",
       "       [  8416,   1122],\n",
       "       [  8520, -18266],\n",
       "       [  8527,    614],\n",
       "       [  8679,  25280],\n",
       "       [  9009,   1919],\n",
       "       [  9012, -31181],\n",
       "       [  9015, -32675],\n",
       "       [  9225, -31121],\n",
       "       [  9280,  14858],\n",
       "       [  9544, -30469],\n",
       "       [  9613,   8213],\n",
       "       [  9629, -25034],\n",
       "       [  9634,  16698],\n",
       "       [  9636, -30811],\n",
       "       [  9642,  30637],\n",
       "       [  9655, -20394],\n",
       "       [  9664, -31825],\n",
       "       [  9669, -15665],\n",
       "       [  9686,   7399],\n",
       "       [  9729,  25063],\n",
       "       [  9733, -12995],\n",
       "       [  9741, -30117],\n",
       "       [  9745,  29059],\n",
       "       [  9768, -18231],\n",
       "       [  9770,  15551],\n",
       "       [  9779,   1330],\n",
       "       [  9808,  20790],\n",
       "       [  9811,  13902],\n",
       "       [  9835, -20392],\n",
       "       [  9839, -12964],\n",
       "       [  9850, -13018],\n",
       "       [  9867, -26395],\n",
       "       [  9875,  24150],\n",
       "       [  9883, -16194],\n",
       "       [  9904, -10618],\n",
       "       [  9905, -25417],\n",
       "       [  9944,  18981],\n",
       "       [  9970, -25928]], dtype=int16)"
      ]
     },
     "execution_count": 15,
     "metadata": {},
     "output_type": "execute_result"
    }
   ],
   "source": [
    "Y_indices[t]"
   ]
  },
  {
   "cell_type": "code",
   "execution_count": 16,
   "metadata": {},
   "outputs": [
    {
     "data": {
      "image/png": "[encoded data removed]",
      "text/plain": [
       "<matplotlib.figure.Figure at 0x7f5090489d90>"
      ]
     },
     "metadata": {},
     "output_type": "display_data"
    }
   ],
   "source": [
    "Y_actual_value[t][:10]\n",
    "plot.imshow(mnist.test.images[0].reshape([28,28]))\n",
    "plot.imshow(mnist.test.images[0].reshape([28,28]))\n",
    "plot.show()"
   ]
  },
  {
   "cell_type": "code",
   "execution_count": null,
   "metadata": {},
   "outputs": [],
   "source": []
  },
  {
   "cell_type": "code",
   "execution_count": null,
   "metadata": {},
   "outputs": [],
   "source": [
    "Y_predicted_value[t][:10]"
   ]
  },
  {
   "cell_type": "code",
   "execution_count": null,
   "metadata": {},
   "outputs": [],
   "source": []
  }
 ],
 "metadata": {
  "kernelspec": {
   "display_name": "Python 2",
   "language": "python",
   "name": "python2"
  },
  "language_info": {
   "codemirror_mode": {
    "name": "ipython",
    "version": 2
   },
   "file_extension": ".py",
   "mimetype": "text/x-python",
   "name": "python",
   "nbconvert_exporter": "python",
   "pygments_lexer": "ipython2",
   "version": "2.7.13"
  }
 },
 "nbformat": 4,
 "nbformat_minor": 2
}
